{
 "cells": [
  {
   "cell_type": "code",
   "execution_count": 1,
   "metadata": {},
   "outputs": [],
   "source": [
    "import os\n",
    "import numpy as np\n",
    "import matplotlib.pyplot as plt\n",
    "from scipy.sparse import spdiags\n",
    "import subprocess\n",
    "import numba"
   ]
  },
  {
   "cell_type": "code",
   "execution_count": 26,
   "metadata": {},
   "outputs": [
    {
     "name": "stderr",
     "output_type": "stream",
     "text": [
      "C:\\Users\\nicor\\AppData\\Local\\Temp\\ipykernel_4776\\2413967081.py:45: RuntimeWarning: overflow encountered in cast\n",
      "  self.u[i, j, t + 1] = (2 * self.u[i, j, t] - self.u[i, j, t - 1] + v ** 2 * self.dt ** 2 * (self.u[i + 1, j, t] - 2 * self.u[i, j, t] + self.u[i - 1, j, t]) / dx ** 2 + v ** 2 * self.dt ** 2 * (self.u[i, j + 1, t] - 2 * self.u[i, j, t] + self.u[i, j - 1, t]) / dy ** 2)\n",
      "C:\\Users\\nicor\\AppData\\Local\\Temp\\ipykernel_4776\\2413967081.py:45: RuntimeWarning: invalid value encountered in scalar add\n",
      "  self.u[i, j, t + 1] = (2 * self.u[i, j, t] - self.u[i, j, t - 1] + v ** 2 * self.dt ** 2 * (self.u[i + 1, j, t] - 2 * self.u[i, j, t] + self.u[i - 1, j, t]) / dx ** 2 + v ** 2 * self.dt ** 2 * (self.u[i, j + 1, t] - 2 * self.u[i, j, t] + self.u[i, j - 1, t]) / dy ** 2)\n",
      "C:\\Users\\nicor\\AppData\\Local\\Temp\\ipykernel_4776\\2413967081.py:45: RuntimeWarning: invalid value encountered in scalar subtract\n",
      "  self.u[i, j, t + 1] = (2 * self.u[i, j, t] - self.u[i, j, t - 1] + v ** 2 * self.dt ** 2 * (self.u[i + 1, j, t] - 2 * self.u[i, j, t] + self.u[i - 1, j, t]) / dx ** 2 + v ** 2 * self.dt ** 2 * (self.u[i, j + 1, t] - 2 * self.u[i, j, t] + self.u[i, j - 1, t]) / dy ** 2)\n"
     ]
    },
    {
     "name": "stdout",
     "output_type": "stream",
     "text": [
      "Creando video con 400 fotogramas\n"
     ]
    }
   ],
   "source": [
    "import os\n",
    "import numpy as np\n",
    "import matplotlib.pyplot as plt\n",
    "from scipy.sparse import spdiags\n",
    "import subprocess\n",
    "import numba\n",
    "\n",
    "class WavePropagation():\n",
    "    def __init__(self, nx, ny, nt, Lx, Ly, dt, filename, save_interval, t):\n",
    "        self.nx = nx\n",
    "        self.ny = ny\n",
    "        self.nt = nt\n",
    "        self.Lx = Lx\n",
    "        self.Ly = Ly\n",
    "        self.dt = dt\n",
    "        self.u = np.zeros((nx, ny, nt), dtype=np.float32)\n",
    "        self.filename = filename\n",
    "        self.save_interval = save_interval\n",
    "        self.t = t\n",
    "        self.frame_count = 0  # Contador de fotogramas\n",
    "\n",
    "    def initialize(self, sigma, x0, y0, A, epsilon, s, y_lamina):\n",
    "        x = np.linspace(0, self.Lx, self.nx)\n",
    "        y = np.linspace(0, self.Ly, self.ny)\n",
    "        self.X, self.Y = np.meshgrid(x, y)\n",
    "        self.sigma = sigma\n",
    "        self.x0 = x0\n",
    "        self.y0 = y0\n",
    "        self.A = A\n",
    "        self.epsilon = epsilon\n",
    "        self.s = s\n",
    "        self.y_lamina = y_lamina\n",
    "        self.x_lamina1 = x0 - s / 2\n",
    "        self.x_lamina2 = x0 + s / 2\n",
    "        self.longitud_lamina = (self.Lx - s) / 2\n",
    "\n",
    "    \n",
    "    def propagate_wave(self, v, f, k):\n",
    "        dx = self.Lx / (self.nx - 1)\n",
    "        dy = self.Ly / (self.ny - 1)\n",
    "        for t in range(0, self.nt - 1):\n",
    "            for i in range(1, self.nx - 1):\n",
    "                for j in range(1, self.ny - 1):\n",
    "                    if not (self.y_lamina - dy / 2 < self.Y[i, j] < self.y_lamina + dy / 2 and (self.X[i, j] < self.x_lamina1 or self.X[i, j] > self.x_lamina2)):\n",
    "                        self.u[i, j, t + 1] = (2 * self.u[i, j, t] - self.u[i, j, t - 1] + v ** 2 * self.dt ** 2 * (self.u[i + 1, j, t] - 2 * self.u[i, j, t] + self.u[i - 1, j, t]) / dx ** 2 + v ** 2 * self.dt ** 2 * (self.u[i, j + 1, t] - 2 * self.u[i, j, t] + self.u[i, j - 1, t]) / dy ** 2)\n",
    "            self.u[0, :, t + 1] = 0\n",
    "            self.u[-1, :, t + 1] = 0\n",
    "            self.u[:, 0, t + 1] = 0\n",
    "            self.u[:, -1, t + 1] = 0\n",
    "            self.u[:, :, t + 1] += self.A * np.sin(-2 * np.pi * f * t * self.dt) * np.sin(k * (self.Y[:] - self.y0)) * np.sin(np.pi * (self.X[:]) / self.Lx) / np.sqrt((self.X[:] - self.x0) ** 2 + 5 * (self.Y[:] - self.y0) ** 2 + self.epsilon)\n",
    "            if t % self.save_interval == 0:\n",
    "                self.plot()\n",
    "\n",
    "        self.create_video()\n",
    "        self.cleanup_frames()\n",
    "\n",
    "    def plot(self):\n",
    "        u = self.u[:, :, self.frame_count]\n",
    "\n",
    "        f = plt.figure(figsize=(5, 5), edgecolor='None')\n",
    "        sp = f.add_subplot(1, 1, 1)\n",
    "        plt.pcolor(u, cmap='rainbow', vmin=-self.A, vmax=self.A)\n",
    "        plt.axis('tight')\n",
    "        plt.xticks([])\n",
    "        plt.yticks([])\n",
    "        plt.savefig(f'frames/{self.filename}_{self.frame_count:04d}.png')\n",
    "        plt.close(f)\n",
    "        self.frame_count += 1\n",
    "\n",
    "    def create_video(self):\n",
    "        print(f\"Creando video con {self.frame_count} fotogramas\")\n",
    "        command = [\n",
    "            'ffmpeg', '-framerate', str((self.frame_count) / self.t), '-i', f'frames/{self.filename}_%04d.png',\n",
    "            '-c:v', 'libx264', '-pix_fmt', 'yuv420p',\n",
    "            f'{self.filename}_{self.nx}_iters_{self.nt}_frames_{self.frame_count}.mp4'\n",
    "        ]\n",
    "        subprocess.run(command)\n",
    "\n",
    "    def cleanup_frames(self):\n",
    "        for file in os.listdir('frames'):\n",
    "            os.remove(os.path.join('frames', file))\n",
    "\n",
    "# Parámetros de la simulación\n",
    "nx, ny, nt = 100, 100, 4000\n",
    "Lx, Ly = 10, 10\n",
    "dt = 0.05\n",
    "f = 5  # Frecuencia de la fuente\n",
    "lambda_ = 5  # Longitud de onda\n",
    "k = 2 * np.pi / lambda_  # Número de onda\n",
    "v = lambda_ * f  # Velocidad de la onda\n",
    "\n",
    "filename = f'wave_propagation_{lambda_}'\n",
    "save_interval = 10\n",
    "t = 30\n",
    "\n",
    "# Inicializar la clase y los parámetros\n",
    "wave = WavePropagation(nx, ny, nt, Lx, Ly, dt, filename, save_interval, t)\n",
    "wave.initialize(sigma=0.2, x0=Lx/2, y0=0, A=2, epsilon=1e-12, s=0.25, y_lamina=Ly/5)\n",
    "\n",
    "# Propagar la onda\n",
    "\n",
    "\n",
    "wave.propagate_wave(v, f, k)"
   ]
  },
  {
   "cell_type": "code",
   "execution_count": 8,
   "metadata": {},
   "outputs": [
    {
     "name": "stdout",
     "output_type": "stream",
     "text": [
      "Creando video con 2000 fotogramas\n"
     ]
    }
   ],
   "source": [
    "# Parámetros de la simulación\n",
    "nx, ny, nt = 100, 100, 2000\n",
    "Lx, Ly = 10, 10\n",
    "dt = 0.001\n",
    "filename = 'wave_propagation'\n",
    "save_interval = 10\n",
    "t = 10\n",
    "\n",
    "# Inicializar la clase y los parámetros\n",
    "wave = WavePropagation(nx, ny, nt, Lx, Ly, dt, filename, save_interval, t)\n",
    "wave.initialize(sigma=0.2, x0=Lx/2, y0=0, A=2, epsilon=1e-12, s=1, y_lamina=Ly/5)\n",
    "\n",
    "# Propagar la onda\n",
    "v = 1  # Velocidad de la onda\n",
    "f = 1  # Frecuencia de la fuente\n",
    "k = 2 * np.pi / Lx  # Número de onda\n",
    "wave.propagate_wave(v, f, k)"
   ]
  }
 ],
 "metadata": {
  "kernelspec": {
   "display_name": "Python 3",
   "language": "python",
   "name": "python3"
  },
  "language_info": {
   "codemirror_mode": {
    "name": "ipython",
    "version": 3
   },
   "file_extension": ".py",
   "mimetype": "text/x-python",
   "name": "python",
   "nbconvert_exporter": "python",
   "pygments_lexer": "ipython3",
   "version": "3.11.7"
  }
 },
 "nbformat": 4,
 "nbformat_minor": 2
}
