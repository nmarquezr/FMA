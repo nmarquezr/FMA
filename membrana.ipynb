{
 "cells": [
  {
   "cell_type": "code",
   "execution_count": 1,
   "metadata": {},
   "outputs": [],
   "source": [
    "from demo3_01 import Circular_Membrane \n",
    "membrana = Circular_Membrane(R=15, c=1)\n",
    "#membrana.static_view(m=10, n=40, NS=512)\n",
    "Tmax=10\n",
    "Nstep = Tmax * 30\n",
    "#membrana.dynamic_view(m=-1, n=10, NS=256, Tmax=Tmax, Nstep=Nstep, v_name='membrana')"
   ]
  },
  {
   "cell_type": "code",
   "execution_count": 2,
   "metadata": {},
   "outputs": [],
   "source": []
  },
  {
   "cell_type": "code",
   "execution_count": 1,
   "metadata": {},
   "outputs": [],
   "source": [
    "from Membrana_circular import WaveSimulation\n",
    "onda = WaveSimulation()\n",
    "onda.simulate()\n",
    "onda.generate('membrana_onda')\n",
    "\n"
   ]
  },
  {
   "cell_type": "code",
   "execution_count": 2,
   "metadata": {},
   "outputs": [],
   "source": []
  }
 ],
 "metadata": {
  "kernelspec": {
   "display_name": "base",
   "language": "python",
   "name": "python3"
  },
  "language_info": {
   "codemirror_mode": {
    "name": "ipython",
    "version": 3
   },
   "file_extension": ".py",
   "mimetype": "text/x-python",
   "name": "python",
   "nbconvert_exporter": "python",
   "pygments_lexer": "ipython3",
   "version": "3.11.7"
  }
 },
 "nbformat": 4,
 "nbformat_minor": 2
}
